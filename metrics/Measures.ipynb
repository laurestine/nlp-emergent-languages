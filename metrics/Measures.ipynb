{
  "nbformat": 4,
  "nbformat_minor": 0,
  "metadata": {
    "colab": {
      "name": "Measures.ipynb",
      "provenance": [],
      "collapsed_sections": []
    },
    "kernelspec": {
      "name": "python3",
      "display_name": "Python 3"
    },
    "language_info": {
      "name": "python"
    }
  },
  "cells": [
    {
      "cell_type": "code",
      "source": [
        "import numpy as np\n",
        "\n",
        "from typing import List\n",
        "\n",
        "from scipy import stats\n",
        "from scipy.spatial.distance import hamming\n",
        "\n",
        "import editdistance # Levenshtein distance\n",
        "\n",
        "from sklearn.feature_extraction.text import CountVectorizer"
      ],
      "metadata": {
        "id": "qrKHmyZxp37-"
      },
      "execution_count": 4,
      "outputs": []
    },
    {
      "cell_type": "markdown",
      "source": [
        "## Utils"
      ],
      "metadata": {
        "id": "-0eXKKFju64s"
      }
    },
    {
      "cell_type": "code",
      "source": [
        "def transform_corpus(corpus, vocabulary):\n",
        "    \"\"\"\n",
        "    inputs\n",
        "    ------------------------------------\n",
        "    corpus: list/array of setences\n",
        "    vocabulary: list\n",
        "\n",
        "    outputs\n",
        "    ------------------------------------\n",
        "    matrix of token counts and its feature names\n",
        "    \"\"\"\n",
        "    vectorizer = CountVectorizer()\n",
        "    vectorizer.fit(vocabulary)\n",
        "    matrix = vectorizer.transform(corpus)\n",
        "\n",
        "    return vectorizer.get_feature_names_out(), matrix.toarray()"
      ],
      "metadata": {
        "id": "bDWWJzWSu8Mf"
      },
      "execution_count": 7,
      "outputs": []
    },
    {
      "cell_type": "markdown",
      "source": [
        "# 1.0 Data"
      ],
      "metadata": {
        "id": "mTCtJtSJpHZ3"
      }
    },
    {
      "cell_type": "markdown",
      "source": [
        "## Data for tests"
      ],
      "metadata": {
        "id": "Y-O6Xm249W0F"
      }
    },
    {
      "cell_type": "code",
      "source": [
        "\"\"\"\n",
        "https://github.com/tomekkorbak/measuring-non-trivial-compositionality/blob/master/protocols.py\n",
        "\"\"\"\n",
        "\n",
        "input_A = ['blue circle', 'silver box', 'green circle']\n",
        "compositional_representation_A = ['a!x_', 'jx__', 'c!x_']\n",
        "\n",
        "input_B = ['blue box','red circle', 'green box']\n",
        "compositional_representation_B = ['ax__', 'b!x_','cx__']\n",
        "\n",
        "vocabulary = input_A + input_B\n",
        "\n",
        "_,messages_A = transform_corpus(input_A, vocabulary)\n",
        "print(\"Count vector of A: \\n {} \\n\".format(messages_A))\n",
        "\n",
        "_,messages_B = transform_corpus(input_B, vocabulary)\n",
        "print(\"Count vector of B: \\n {}\".format(messages_B))"
      ],
      "metadata": {
        "id": "sb2UApGC9VrX",
        "colab": {
          "base_uri": "https://localhost:8080/"
        },
        "outputId": "795e4273-b1c1-4aa8-b592-5dc9610c0c74"
      },
      "execution_count": 8,
      "outputs": [
        {
          "output_type": "stream",
          "name": "stdout",
          "text": [
            "Count vector of A: \n",
            " [[1 0 1 0 0 0]\n",
            " [0 1 0 0 0 1]\n",
            " [0 0 1 1 0 0]] \n",
            "\n",
            "Count vector of B: \n",
            " [[1 1 0 0 0 0]\n",
            " [0 0 1 0 1 0]\n",
            " [0 1 0 1 0 0]]\n"
          ]
        }
      ]
    },
    {
      "cell_type": "code",
      "execution_count": null,
      "metadata": {
        "id": "ZG9egouSpDh9"
      },
      "outputs": [],
      "source": [
        "# get the txt and generate the representation"
      ]
    },
    {
      "cell_type": "markdown",
      "source": [
        "# 2.0 TopSim\n",
        "\n",
        "Topographic Similarity"
      ],
      "metadata": {
        "id": "U6eTIlTXpLIO"
      }
    },
    {
      "cell_type": "code",
      "source": [
        "from typing import Callable, Tuple, Union, Dict, List\n",
        "\n",
        "from scipy.stats import spearmanr\n",
        "\n",
        "\"\"\"\n",
        "Adapted: https://github.com/tomekkorbak/measuring-non-trivial-compositionality\n",
        "\"\"\"\n",
        "\n",
        "class TopographicSimilarity():\n",
        "\n",
        "    def __init__(self, message_metric: Callable, representation_metric: Callable):\n",
        "        self.message_metric = message_metric \n",
        "        self.representation_metric = representation_metric\n",
        "\n",
        "    def measure(self, compositional_representation_A, messages_A, compositional_representation_B, messages_B):\n",
        "        # print('distance_messages')\n",
        "        distance_messages = self._compute_distances(\n",
        "            sequence_A = messages_A,\n",
        "            sequence_B = messages_B,\n",
        "            metric = self.message_metric)\n",
        "        \n",
        "        # print('distance_representation')\n",
        "        distance_representation = self._compute_distances( \n",
        "            sequence_A = compositional_representation_A,\n",
        "            sequence_B = compositional_representation_B,\n",
        "            metric = self.representation_metric)\n",
        "\n",
        "        topsim = spearmanr(distance_representation, distance_messages, nan_policy=\"raise\").correlation\n",
        "        \n",
        "        return topsim\n",
        "\n",
        "    def _compute_distances(self, sequence_A: List[str], sequence_B: List[str], metric: Callable) -> List[float]:\n",
        "        distances = []\n",
        "        for i in range(len(sequence_A)): \n",
        "            distances.append(metric(sequence_A[i], sequence_B[i]))\n",
        "        # print(distances, '\\n')\n",
        "        return distances"
      ],
      "metadata": {
        "id": "6Lygi-f6pM8J"
      },
      "execution_count": null,
      "outputs": []
    },
    {
      "cell_type": "markdown",
      "source": [
        "## Test"
      ],
      "metadata": {
        "id": "auA62ix4sbhE"
      }
    },
    {
      "cell_type": "code",
      "source": [
        "topsim_class = TopographicSimilarity(message_metric = hamming,\n",
        "                               representation_metric = editdistance.eval\n",
        "                               )\n",
        "\n",
        "\n",
        "topsim = topsim_class.measure(compositional_representation_A, messages_A, \n",
        "                   compositional_representation_B,  messages_B)\n",
        "print(\"Topsim: {}\".format(topsim))"
      ],
      "metadata": {
        "colab": {
          "base_uri": "https://localhost:8080/"
        },
        "id": "uW7vz-7gs2If",
        "outputId": "7d516a55-e06e-41f7-df77-25dfaae34173"
      },
      "execution_count": null,
      "outputs": [
        {
          "output_type": "stream",
          "name": "stdout",
          "text": [
            "distance_messages\n",
            "[0.3333333333333333, 0.6666666666666666, 0.3333333333333333] \n",
            "\n",
            "distance_representation\n",
            "[2, 3, 2] \n",
            "\n",
            "Topsim: 1.0\n"
          ]
        }
      ]
    },
    {
      "cell_type": "markdown",
      "source": [
        "# 3.0 Pos"
      ],
      "metadata": {
        "id": "TReuyABVpNYq"
      }
    },
    {
      "cell_type": "code",
      "source": [
        "\"\"\"\n",
        "Adapted: https://github.com/tomekkorbak/measuring-non-trivial-compositionality\n",
        "\"\"\""
      ],
      "metadata": {
        "id": "3ysu5RTW5Chs"
      },
      "execution_count": null,
      "outputs": []
    },
    {
      "cell_type": "markdown",
      "source": [
        "example of representation: https://github.com/facebookresearch/EGG/blob/main/egg/zoo/compo_vs_generalization/intervention.py"
      ],
      "metadata": {
        "id": "csJB-tQqEEkn"
      }
    },
    {
      "cell_type": "markdown",
      "source": [
        "## Entropy"
      ],
      "metadata": {
        "id": "WYnE5Z-J41Ub"
      }
    },
    {
      "cell_type": "code",
      "source": [
        "from collections import defaultdict\n",
        "\n",
        "def compute_entropy(symbols: List[str]) -> float:\n",
        "    frequency_table = defaultdict(float)\n",
        "    for symbol in symbols:\n",
        "        frequency_table[symbol] += 1.0\n",
        "    H = 0\n",
        "    for symbol in frequency_table:\n",
        "        p = frequency_table[symbol]/len(symbols)\n",
        "        H += -p * np.log2(p)\n",
        "    return H"
      ],
      "metadata": {
        "id": "RowXXaCDpRiL"
      },
      "execution_count": null,
      "outputs": []
    },
    {
      "cell_type": "markdown",
      "source": [
        "## Mutual information"
      ],
      "metadata": {
        "id": "h8xmyai449aZ"
      }
    },
    {
      "cell_type": "code",
      "source": [
        "def compute_mutual_information(concepts: List[str], symbols: List[str]) -> float:\n",
        "    concept_entropy = compute_entropy(concepts)  # H[p(concepts)]\n",
        "    symbol_entropy = compute_entropy(symbols)  # H[p(symbols)]\n",
        "    symbols_and_concepts = [symbol + '_' + concept for symbol, concept in zip(symbols, concepts)]\n",
        "    symbol_concept_joint_entropy = compute_entropy(symbols_and_concepts)  # H[p(concepts, symbols)]\n",
        "    return concept_entropy + symbol_entropy - symbol_concept_joint_entropy"
      ],
      "metadata": {
        "id": "OV-D3Mjx4_7U"
      },
      "execution_count": null,
      "outputs": []
    },
    {
      "cell_type": "markdown",
      "source": [
        "## Pos Class"
      ],
      "metadata": {
        "id": "CEJyGzsj43Op"
      }
    },
    {
      "cell_type": "code",
      "source": [
        "class PositionalDisentanglement():\n",
        "\n",
        "    def __init__(self, max_message_length: int, num_concept_slots: int):\n",
        "        self.max_message_length = max_message_length\n",
        "        self.num_concept_slots = num_concept_slots\n",
        "        self.permutation_invariant = False\n",
        "\n",
        "    def measure(self, compositional_representation, messages):\n",
        "        disentanglement_scores = []\n",
        "        non_constant_positions = 0\n",
        "\n",
        "        for j in range(self.max_message_length):\n",
        "            symbols_j = compositional_representation[j]\n",
        "            symbol_mutual_info = []\n",
        "            symbol_entropy = compute_entropy(symbols_j)\n",
        "            for i in range(self.num_concept_slots):\n",
        "                concepts_i = messages[i]\n",
        "                mutual_info = compute_mutual_information(concepts_i, symbols_j)\n",
        "                symbol_mutual_info.append(mutual_info)\n",
        "            symbol_mutual_info.sort(reverse=True)\n",
        "\n",
        "            if symbol_entropy > 0:\n",
        "                disentanglement_score = (symbol_mutual_info[0] - symbol_mutual_info[1]) / symbol_entropy\n",
        "                disentanglement_scores.append(disentanglement_score)\n",
        "                non_constant_positions += 1\n",
        "            if non_constant_positions > 0:\n",
        "                return sum(disentanglement_scores)/non_constant_positions\n",
        "            else:\n",
        "                return np.nan"
      ],
      "metadata": {
        "id": "0uWlIpid46bb"
      },
      "execution_count": null,
      "outputs": []
    },
    {
      "cell_type": "markdown",
      "source": [
        "## Test"
      ],
      "metadata": {
        "id": "6WRUlkzt7acl"
      }
    },
    {
      "cell_type": "code",
      "source": [
        "pos_class = PositionalDisentanglement(max_message_length = 4, num_concept_slots = 2) \n",
        "# 4: characters numbers in representation\n",
        "# 2: 2 words per sentence\n",
        "\n",
        "pos = pos_class.measure(compositional_representation_A, input_A)\n",
        "print(\"Pos: {}\".format(pos))"
      ],
      "metadata": {
        "colab": {
          "base_uri": "https://localhost:8080/"
        },
        "id": "f5d292jK7bNl",
        "outputId": "ee61cf91-acec-4d25-e61c-8578c8c711e3"
      },
      "execution_count": null,
      "outputs": [
        {
          "output_type": "stream",
          "name": "stdout",
          "text": [
            "Pos: 0.2039755108523047\n"
          ]
        }
      ]
    },
    {
      "cell_type": "code",
      "source": [
        ""
      ],
      "metadata": {
        "id": "Kld-LXqbB_X1"
      },
      "execution_count": null,
      "outputs": []
    }
  ]
}